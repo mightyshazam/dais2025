{
 "cells": [
  {
   "cell_type": "code",
   "execution_count": null,
   "id": "e3ba6a2d",
   "metadata": {},
   "outputs": [],
   "source": [
    "%pip install datacontract-cli"
   ]
  },
  {
   "cell_type": "code",
   "execution_count": null,
   "id": "18775cfe",
   "metadata": {},
   "outputs": [],
   "source": [
    "def get_absolute_path(*relative_parts):\n",
    "    import os\n",
    "    if 'dbutils' in globals():\n",
    "        # dbutils is available to the entry point when run in Databricks\n",
    "        base_dir = os.path.dirname(dbutils.notebook.entry_point.getDbutils().notebook().getContext().notebookPath().get()) # type: ignore\n",
    "        path = os.path.normpath(os.path.join(base_dir, *relative_parts))\n",
    "        return path if path.startswith(\"/Workspace\") else \"/Workspace\" + path\n",
    "    else:\n",
    "        return os.path.join(*relative_parts)"
   ]
  },
  {
   "cell_type": "code",
   "execution_count": null,
   "id": "ddf3e511",
   "metadata": {},
   "outputs": [],
   "source": [
    "import sys\n",
    "from datacontract.data_contract import DataContract\n",
    "from helpers.spark import get_spark\n",
    "\n",
    "run_verification = dbutils.jobs.taskValues.get(taskKey = \"main_task\", key = \"verify_promise\")\n",
    "if run_verification is None | run_verification == False:\n",
    "    print(\"Skipping verification due to run_verification value\")\n",
    "else:\n",
    "    data_contract_file = get_absolute_path(\"..\", \"datacontract.yaml\")\n",
    "    data_contract = DataContract(\n",
    "        data_contract_file=data_contract_file, \n",
    "        spark=get_spark(),\n",
    "    )\n",
    "\n",
    "    run = data_contract.test()\n",
    "\n",
    "    print(\"Data Contract test result:\", run.result)\n",
    "    print(\"Run details:\",  run)\n",
    "\n",
    "    if not run.has_passed():\n",
    "        sys.exit(1)"
   ]
  }
 ],
 "metadata": {
  "kernelspec": {
   "display_name": ".venv",
   "language": "python",
   "name": "python3"
  },
  "language_info": {
   "codemirror_mode": {
    "name": "ipython",
    "version": 3
   },
   "file_extension": ".py",
   "mimetype": "text/x-python",
   "name": "python",
   "nbconvert_exporter": "python",
   "pygments_lexer": "ipython3",
   "version": "3.11.12"
  }
 },
 "nbformat": 4,
 "nbformat_minor": 5
}
